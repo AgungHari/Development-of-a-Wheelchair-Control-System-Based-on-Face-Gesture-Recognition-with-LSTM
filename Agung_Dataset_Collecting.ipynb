{
 "cells": [
  {
   "cell_type": "code",
   "execution_count": 18,
   "metadata": {},
   "outputs": [],
   "source": [
    "import cv2\n",
    "import numpy as np\n",
    "import os\n",
    "from matplotlib import pyplot as plt\n",
    "import time\n",
    "import mediapipe as mp\n",
    "import math"
   ]
  },
  {
   "cell_type": "code",
   "execution_count": 2,
   "metadata": {},
   "outputs": [],
   "source": [
    "\n",
    "# # START NORMALIZING DATASET\n",
    "DATA_PATH = os.path.join('Dataset_Wajah') \n",
    "\n",
    "actions = np.array([\"Stop\", \"Maju\", \"Mundur\", \"Kanan\", \"Kiri\" \n",
    "                    ])\n",
    "no_sequences = 50\n",
    "sequence_length = 5\n",
    "\n"
   ]
  },
  {
   "cell_type": "code",
   "execution_count": 3,
   "metadata": {},
   "outputs": [],
   "source": [
    "def create_folder(actions, data_path, no_sequences):\n",
    "    for action in actions: \n",
    "        for sequence in range(no_sequences):\n",
    "            try: \n",
    "                os.makedirs(os.path.join(data_path, action, str(sequence)))\n",
    "            except:\n",
    "                pass\n",
    "\n",
    "\n",
    "create_folder(actions, DATA_PATH, no_sequences)"
   ]
  },
  {
   "cell_type": "code",
   "execution_count": 4,
   "metadata": {},
   "outputs": [],
   "source": [
    "mp_drawing = mp.solutions.drawing_utils\n",
    "mp_holistic = mp.solutions.holistic\n",
    "mp_face_mesh = mp.solutions.face_mesh "
   ]
  },
  {
   "cell_type": "code",
   "execution_count": 5,
   "metadata": {},
   "outputs": [],
   "source": [
    "def mediapipe_detection(image, model):\n",
    "    image.flags.writeable = False  # Mengubah gambar menjadi read-only untuk meningkatkan performa\n",
    "    image = cv2.cvtColor(image, cv2.COLOR_BGR2RGB)  # Konversi warna dari BGR (OpenCV) ke RGB\n",
    "    results = model.process(image)  # Proses deteksi menggunakan model MediaPipe\n",
    "    image.flags.writeable = True  # Membuat gambar kembali dapat ditulis\n",
    "    image = cv2.cvtColor(image, cv2.COLOR_RGB2BGR)  # Kembali ke format BGR untuk OpenCV\n",
    "    return image, results\n",
    "\n",
    "# Fungsi untuk menggambar face landmarks tanpa mata, mulut, dan hidung\n",
    "def draw_face_landmarks(image, results):\n",
    "    if results.face_landmarks:  # Memastikan bahwa ada hasil landmark wajah\n",
    "        # Landmark mata, mulut, dan hidung yang akan dikecualikan\n",
    "        excluded_landmarks = [\n",
    "            1, 2, 3, 4, 5, 6, 7, 8, 9, 10, 11, 12, 13, 14, 15, 16,  # Kontur hidung, mulut, dan bibir\n",
    "            33, 133, 362, 263,  # Mata\n",
    "            168, 6  # Hidung bagian tengah\n",
    "        ]\n",
    "\n",
    "        # Koneksi original dari FACEMESH_CONTOURS\n",
    "        custom_contours = list(mp_holistic.FACEMESH_CONTOURS)\n",
    "\n",
    "        # Buang koneksi yang melibatkan landmark yang ingin dikecualikan\n",
    "        custom_contours = [connection for connection in custom_contours if connection[0] not in excluded_landmarks and connection[1] not in excluded_landmarks]\n",
    "\n",
    "        # Gambar custom landmarks tanpa mata, mulut, dan hidung\n",
    "        mp_drawing.draw_landmarks(\n",
    "            image, \n",
    "            results.face_landmarks, \n",
    "            custom_contours, \n",
    "            mp_drawing.DrawingSpec(thickness=1, circle_radius=1),  # Seting visual\n",
    "            mp_drawing.DrawingSpec(thickness=1, circle_radius=1)\n",
    "        )\n",
    "\n",
    "# Fungsi untuk mengekstrak keypoints tanpa mata, mulut, dan hidung\n",
    "def extract_keypoints(results):\n",
    "    # Landmark yang akan dikecualikan (definisi di awal, di luar blok if)\n",
    "    excluded_landmarks = {\n",
    "        1, 2, 3, 4, 5, 6, 7, 8, 9, 10, 11, 12, 13, 14, 15, 16,  # Kontur hidung, mulut, bibir\n",
    "        33, 133, 362, 263,  # Mata\n",
    "        168, 6  # Hidung bagian tengah\n",
    "    }\n",
    "\n",
    "    if results.face_landmarks:\n",
    "        # Landmark dalam hasil face_landmarks\n",
    "        landmarks = results.face_landmarks.landmark\n",
    "\n",
    "        # Ekstraksi keypoints yang bukan bagian dari landmark yang dikecualikan\n",
    "        keypoints = np.array([[landmark.x, landmark.y] for i, landmark in enumerate(landmarks) if i not in excluded_landmarks]).flatten()\n",
    "    else:\n",
    "        # Jika tidak ada face_landmarks, buat keypoints kosong dengan ukuran sesuai\n",
    "        keypoints = np.zeros((468 - len(excluded_landmarks)) * 2)\n",
    "\n",
    "    return keypoints\n",
    "\n",
    "\n",
    "\n",
    "def wait_for_continue():\n",
    "    cv2.putText(image, 'Nyantuy dikit teken G', (50, 100),  cv2.FONT_HERSHEY_SIMPLEX, 1, (0, 255, 0), 2, cv2.LINE_AA)\n",
    "    \n",
    "    # Tampilkan frame dengan teks\n",
    "    cv2.imshow('OpenCV Feed', image)\n",
    "    \n",
    "    # Loop untuk menunggu input tanpa menghentikan video\n",
    "    while True:\n",
    "        if cv2.waitKey(1) & 0xFF == ord('g'):  # Menggunakan 1ms delay untuk terus menampilkan frame\n",
    "            break\n"
   ]
  },
  {
   "cell_type": "code",
   "execution_count": 6,
   "metadata": {},
   "outputs": [
    {
     "name": "stdout",
     "output_type": "stream",
     "text": [
      "Total landmark yang digunakan setelah pengurangan: 120\n"
     ]
    }
   ],
   "source": [
    "excluded_landmarks = {\n",
    "    1, 2, 3, 4, 5, 6, 7, 8, 9, 10, 11, 12, 13, 14, 15, 16,  # Kontur hidung, mulut, bibir\n",
    "    33, 133, 362, 263,  # Mata\n",
    "    168, 6  # Hidung bagian tengah\n",
    "}\n",
    "\n",
    "# FACEMESH_CONTOURS adalah koneksi standar yang akan kita kurangi\n",
    "import mediapipe as mp\n",
    "mp_holistic = mp.solutions.holistic\n",
    "\n",
    "# Mengambil koneksi FACEMESH_CONTOURS\n",
    "facemesh_contours = list(mp_holistic.FACEMESH_CONTOURS)\n",
    "\n",
    "# Buang koneksi yang melibatkan landmark yang dikecualikan\n",
    "custom_contours = [connection for connection in facemesh_contours if connection[0] not in excluded_landmarks and connection[1] not in excluded_landmarks]\n",
    "\n",
    "# Menghitung total jumlah landmark yang digunakan setelah pengecualian\n",
    "used_landmarks = set()\n",
    "for connection in custom_contours:\n",
    "    used_landmarks.update(connection)\n",
    "\n",
    "total_landmarks_used = len(used_landmarks)\n",
    "print(f\"Total landmark yang digunakan setelah pengurangan: {total_landmarks_used}\")"
   ]
  },
  {
   "cell_type": "code",
   "execution_count": 7,
   "metadata": {},
   "outputs": [
    {
     "name": "stderr",
     "output_type": "stream",
     "text": [
      "d:\\TugasAkhir_FUji\\.venv\\lib\\site-packages\\google\\protobuf\\symbol_database.py:55: UserWarning: SymbolDatabase.GetPrototype() is deprecated. Please use message_factory.GetMessageClass() instead. SymbolDatabase.GetPrototype() will be removed soon.\n",
      "  warnings.warn('SymbolDatabase.GetPrototype() is deprecated. Please '\n"
     ]
    }
   ],
   "source": [
    "cap = cv2.VideoCapture(0)\n",
    "with mp_holistic.Holistic(min_detection_confidence=0.5, min_tracking_confidence=0.5) as holistic:\n",
    "\n",
    "    for action in actions:\n",
    "        for sequence in range(no_sequences):\n",
    "            for frame_num in range(sequence_length):\n",
    "\n",
    "                ret, frame = cap.read()\n",
    "\n",
    "                image, results = mediapipe_detection(frame, holistic)\n",
    "                \n",
    "                # Gambar landmark pada frame sebelum ditampilkan\n",
    "                draw_face_landmarks(image, results)\n",
    "                # Tampilkan teks untuk memberitahu proses pengumpulan data\n",
    "                if frame_num == 0: \n",
    "                    cv2.putText(image, 'STARTING COLLECTION', (120,200), \n",
    "                                cv2.FONT_HERSHEY_SIMPLEX, 1, (0,255, 0), 4, cv2.LINE_AA)\n",
    "                    cv2.putText(image, 'Collecting frames for {} Video Number {}'.format(action, sequence), (15,60), \n",
    "                                cv2.FONT_HERSHEY_SIMPLEX, 0.7, (0, 0, 255), 1, cv2.LINE_AA)\n",
    "                    cv2.imshow('OpenCV Feed', image)\n",
    "                    cv2.waitKey(600)\n",
    "                \n",
    "                # Tampilkan teks saat sequence berikutnya dimulai\n",
    "                elif frame_num == sequence_length - 1:\n",
    "                    cv2.putText(image, 'NEXT SEQUENCE', (120,200), \n",
    "                                cv2.FONT_HERSHEY_SIMPLEX, 1, (0,255, 0), 4, cv2.LINE_AA)\n",
    "                    cv2.imshow('OpenCV Feed', image)\n",
    "                    cv2.waitKey(600)\n",
    "\n",
    "                else: \n",
    "                    cv2.putText(image, 'Collecting frames for {} Video Number {}'.format(action, sequence), (15,60), \n",
    "                                cv2.FONT_HERSHEY_SIMPLEX, 0.7, (0, 0, 255), 1, cv2.LINE_AA)\n",
    "                    cv2.imshow('OpenCV Feed', image)\n",
    "\n",
    "                # Membuat latar belakang hitam\n",
    "                black_bg = np.zeros((frame.shape[0], frame.shape[1], frame.shape[2]))\n",
    "\n",
    "                # Gambar landmark pada black background (opsional)\n",
    "                draw_face_landmarks(black_bg, results)\n",
    "\n",
    "                # Simpan frame asli, frame dengan landmark, dan frame dengan latar hitam\n",
    "                cv2.imwrite(os.path.join(DATA_PATH, action, str(sequence), f\"{frame_num}-clear.jpg\"), frame)\n",
    "                cv2.imwrite(os.path.join(DATA_PATH, action, str(sequence), f\"{frame_num}.jpg\"), image)\n",
    "                cv2.imwrite(os.path.join(DATA_PATH, action, str(sequence), f\"{frame_num}-black.jpg\"), black_bg)\n",
    "                \n",
    "                # Ekstrak dan simpan keypoints\n",
    "                keypoints = extract_keypoints(results)\n",
    "                npy_path = os.path.join(DATA_PATH, action, str(sequence), str(frame_num))\n",
    "                np.save(npy_path, keypoints)\n",
    "\n",
    "                # Tampilkan frame yang sudah digambar landmarknya\n",
    "                cv2.imshow('OpenCV Feed', image)\n",
    "\n",
    "                # Memungkinkan pengguna untuk keluar dengan menekan 'q'\n",
    "                if cv2.waitKey(10) & 0xFF == ord('q'):\n",
    "                    break\n",
    "            wait_for_continue()\n",
    "                    \n",
    "cap.release()\n",
    "cv2.destroyAllWindows()"
   ]
  },
  {
   "cell_type": "code",
   "execution_count": 8,
   "metadata": {},
   "outputs": [],
   "source": [
    "coor_x = []\n",
    "coor_y = []\n",
    "coordinates = []\n",
    "\n",
    "for action in actions:\n",
    "     for sequence in np.array(os.listdir(os.path.join(DATA_PATH, action))).astype(int):\n",
    "        for frame_num in range(sequence_length):\n",
    "            res = np.load(os.path.join(DATA_PATH, action, str(sequence), \"{}.npy\".format(frame_num)))\n",
    "            for index, coor in enumerate(res):\n",
    "                coordinates.append(coor)\n",
    "\n",
    "                if(index % 2 != 0):\n",
    "                    coor_x.append(coor)\n",
    "                else:\n",
    "                    coor_y.append(coor)"
   ]
  },
  {
   "cell_type": "code",
   "execution_count": 9,
   "metadata": {},
   "outputs": [
    {
     "name": "stdout",
     "output_type": "stream",
     "text": [
      "1117500\n"
     ]
    }
   ],
   "source": [
    "print(len(coordinates))"
   ]
  },
  {
   "cell_type": "code",
   "execution_count": 10,
   "metadata": {},
   "outputs": [],
   "source": [
    "def normalization(midpoint_x, midpoint_y, shoulder_width, coordinates):\n",
    "    print(\"Koordinat awal:\")\n",
    "    print(\"Max: \" + str(max(coordinates)))\n",
    "    print(\"Min: \" + str(min(coordinates)))\n",
    "\n",
    "\n",
    "    for index, coor in enumerate(coordinates):\n",
    "        \n",
    "        #position invariant\n",
    "        if(index % 2 != 0):\n",
    "            coordinates[index] -= midpoint_x\n",
    "        else:\n",
    "            coordinates[index] -= midpoint_y\n",
    "\n",
    "        #scale invariant\n",
    "        coordinates[index] /= shoulder_width\n",
    "\n",
    "    print(\"\\nKoordinat normalisasi:\")\n",
    "    print(\"Max: \" + str(max(coordinates)))\n",
    "    print(\"Min: \" + str(min(coordinates)))\n",
    "    return coordinates\n",
    "\n",
    "def save_normalization(paths, actions, no_sequences, sequence_length, coor_norm):\n",
    "    total_landmarks = 108\n",
    "    temp_index = 0\n",
    "\n",
    "    for action in actions:\n",
    "        for sequence in range(no_sequences):\n",
    "            for frame_num in range(sequence_length):\n",
    "                saved_coor_norm = coor_norm[temp_index:temp_index+total_landmarks]\n",
    "\n",
    "                norm_npy_path = os.path.join(paths, action, str(sequence), str(frame_num) + \"-norm\")\n",
    "                np.save(norm_npy_path, saved_coor_norm)\n",
    "\n",
    "                temp_index += total_landmarks"
   ]
  },
  {
   "cell_type": "code",
   "execution_count": 19,
   "metadata": {},
   "outputs": [],
   "source": [
    "midpoint_x = (coor_x[0] + coor_x[1])/2\n",
    "midpoint_y = (coor_y[0] + coor_y[1])/2\n",
    "\n",
    "# delta_x = midpoint_x - frame_width/2\n",
    "# delta_y = midpoint_y - frame_height/2\n",
    "\n",
    "shoulder_delta_x = coor_x[1] - coor_x[0]\n",
    "shoulder_delta_y = coor_y[1] - coor_y[0]\n",
    "shoulder_width = math.sqrt(pow(shoulder_delta_x, 2) + pow(shoulder_delta_y, 2))"
   ]
  },
  {
   "cell_type": "code",
   "execution_count": 21,
   "metadata": {},
   "outputs": [
    {
     "name": "stdout",
     "output_type": "stream",
     "text": [
      "Koordinat awal:\n",
      "Max: 0.8135124444961548\n",
      "Min: 0.35463058948516846\n",
      "\n",
      "Koordinat normalisasi:\n",
      "Max: 5.650197559079372\n",
      "Min: -6.968470133991347\n"
     ]
    }
   ],
   "source": [
    "normalized_coor = normalization(midpoint_x, midpoint_y, shoulder_width, coordinates)\n",
    "\n",
    "save_normalization(DATA_PATH, actions, no_sequences, sequence_length, normalized_coor)"
   ]
  },
  {
   "cell_type": "code",
   "execution_count": 22,
   "metadata": {},
   "outputs": [],
   "source": [
    "check_coordinates = []\n",
    "\n",
    "for action in actions:\n",
    "     for sequence in np.array(os.listdir(os.path.join(DATA_PATH, action))).astype(int):\n",
    "        for frame_num in range(sequence_length):\n",
    "            res = np.load(os.path.join(DATA_PATH, action, str(sequence), \"{}-norm.npy\".format(frame_num)))\n",
    "            for index, coor in enumerate(res):\n",
    "                check_coordinates.append(coor)"
   ]
  },
  {
   "cell_type": "code",
   "execution_count": 23,
   "metadata": {},
   "outputs": [
    {
     "name": "stdout",
     "output_type": "stream",
     "text": [
      "135000\n",
      "Max: 4.238778705393544\n",
      "Min: -6.679569425485824\n"
     ]
    }
   ],
   "source": [
    "print(len(check_coordinates))\n",
    "print(\"Max: \" + str(max(check_coordinates)))\n",
    "print(\"Min: \" + str(min(check_coordinates)))"
   ]
  },
  {
   "cell_type": "code",
   "execution_count": null,
   "metadata": {},
   "outputs": [],
   "source": [
    "print(len(coor_x) * 2)\n",
    "print(coor_x[0])\n",
    "print(2*30*30*108)\n",
    "print(12*2 + 21 * 2 * 2)"
   ]
  },
  {
   "cell_type": "code",
   "execution_count": null,
   "metadata": {},
   "outputs": [],
   "source": [
    "len(actions)"
   ]
  }
 ],
 "metadata": {
  "kernelspec": {
   "display_name": ".venv",
   "language": "python",
   "name": "python3"
  },
  "language_info": {
   "codemirror_mode": {
    "name": "ipython",
    "version": 3
   },
   "file_extension": ".py",
   "mimetype": "text/x-python",
   "name": "python",
   "nbconvert_exporter": "python",
   "pygments_lexer": "ipython3",
   "version": "3.9.12"
  }
 },
 "nbformat": 4,
 "nbformat_minor": 2
}
